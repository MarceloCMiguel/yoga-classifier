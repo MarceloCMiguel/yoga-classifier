{
 "cells": [
  {
   "cell_type": "code",
   "execution_count": 39,
   "metadata": {},
   "outputs": [],
   "source": [
    "import os\n",
    "import shutil\n",
    "from PIL import Image"
   ]
  },
  {
   "cell_type": "code",
   "execution_count": 40,
   "metadata": {},
   "outputs": [
    {
     "name": "stdout",
     "output_type": "stream",
     "text": [
      "data_dir: ../data/DATASET\n",
      "os.listdir(dataset_dir): ['TRAIN', 'TEST']\n"
     ]
    }
   ],
   "source": [
    "data_dir = '../data'\n",
    "dataset_dir = os.path.join(data_dir, 'DATASET')\n",
    "\n",
    "print('data_dir:', dataset_dir)\n",
    "print('os.listdir(dataset_dir):', os.listdir(dataset_dir))"
   ]
  },
  {
   "cell_type": "code",
   "execution_count": 41,
   "metadata": {},
   "outputs": [],
   "source": [
    "\n",
    "\n",
    "new_images_dir = os.path.join(data_dir, 'images')\n",
    "\n",
    "if os.path.exists(new_images_dir):\n",
    "    shutil.rmtree(new_images_dir)\n",
    "os.makedirs(new_images_dir)"
   ]
  },
  {
   "cell_type": "code",
   "execution_count": 42,
   "metadata": {},
   "outputs": [],
   "source": [
    "def create_dir_if_not_exists(dir):\n",
    "    if not os.path.exists(dir):\n",
    "        os.makedirs(dir)"
   ]
  },
  {
   "cell_type": "code",
   "execution_count": 43,
   "metadata": {},
   "outputs": [
    {
     "name": "stdout",
     "output_type": "stream",
     "text": [
      "sub_dir: TRAIN\n",
      "|_sub_sub_dir: goddess\n",
      "|_sub_sub_dir: tree\n",
      "|_sub_sub_dir: downdog\n",
      "|_sub_sub_dir: plank\n",
      "|_sub_sub_dir: warrior2\n",
      "sub_dir: TEST\n",
      "|_sub_sub_dir: goddess\n",
      "|_sub_sub_dir: tree\n",
      "|_sub_sub_dir: downdog\n",
      "|_sub_sub_dir: plank\n",
      "|_sub_sub_dir: warrior2\n"
     ]
    }
   ],
   "source": [
    "targets_images = {} # example: {'godness': ['../data/images/godness/1.jpg', '../data/DATASET/godness/2.jpg', ...], ...}\n",
    "\n",
    "\n",
    "# enter in all the subdirectories of the dataset directory\n",
    "for sub_dir in os.listdir(dataset_dir):\n",
    "    print('sub_dir:', sub_dir)\n",
    "    sub_dir_path = os.path.join(dataset_dir, sub_dir)\n",
    "\n",
    "    # enter in all subdirectories of the sub_dir\n",
    "    for sub_sub_dir in os.listdir(sub_dir_path):\n",
    "        print('|_sub_sub_dir:', sub_sub_dir)\n",
    "        \n",
    "        if sub_sub_dir not in targets_images:\n",
    "            targets_images[sub_sub_dir] = []\n",
    "        \n",
    "        sub_sub_dir_path = os.path.join(sub_dir_path, sub_sub_dir)\n",
    "        new_sub_sub_dir = os.path.join(new_images_dir, sub_sub_dir)\n",
    "        create_dir_if_not_exists(new_sub_sub_dir)\n",
    "        \n",
    "        # enter in all the files of the sub_sub_dir\n",
    "        for file in os.listdir(sub_sub_dir_path):\n",
    "            file_path = os.path.join(sub_sub_dir_path, file)\n",
    "            new_file_path = os.path.join(new_sub_sub_dir, file)\n",
    "            if os.path.exists(new_file_path):\n",
    "                print('file already exists:', new_file_path)\n",
    "                continue\n",
    "            shutil.copy(file_path, new_file_path)\n",
    "            targets_images[sub_sub_dir].append(new_file_path)"
   ]
  },
  {
   "cell_type": "code",
   "execution_count": 44,
   "metadata": {},
   "outputs": [
    {
     "name": "stdout",
     "output_type": "stream",
     "text": [
      "key: goddess\n",
      "len(targets_images[key]): 260\n",
      "\n",
      "key: tree\n",
      "len(targets_images[key]): 229\n",
      "\n",
      "key: downdog\n",
      "len(targets_images[key]): 320\n",
      "\n",
      "key: plank\n",
      "len(targets_images[key]): 381\n",
      "\n",
      "key: warrior2\n",
      "len(targets_images[key]): 361\n",
      "\n",
      "count: 1551\n"
     ]
    }
   ],
   "source": [
    "targets_images.keys()\n",
    "count = 0\n",
    "for key in targets_images.keys():\n",
    "    print('key:', key)\n",
    "    print('len(targets_images[key]):', len(targets_images[key]))\n",
    "    print('')\n",
    "    count += len(targets_images[key])\n",
    "\n",
    "print('count:', count)\n",
    "\n",
    "def get_extension(file_path):\n",
    "    return file_path.split('.')[-1]\n",
    "\n",
    "def get_extensions(target):\n",
    "    extensions = {}\n",
    "    for target in targets_images.keys():\n",
    "        for image_path in targets_images[target]:\n",
    "            extension = get_extension(image_path)\n",
    "            if extension not in extensions:\n",
    "                extensions[extension] = 0\n",
    "            extensions[extension] += 1\n",
    "    return extensions"
   ]
  },
  {
   "cell_type": "code",
   "execution_count": 45,
   "metadata": {},
   "outputs": [
    {
     "data": {
      "text/plain": [
       "{'jpg': 1410, 'png': 110, 'JPG': 19, 'jpeg': 10, 'bmp': 1, 'PNG': 1}"
      ]
     },
     "execution_count": 45,
     "metadata": {},
     "output_type": "execute_result"
    }
   ],
   "source": [
    "get_extensions(targets_images)"
   ]
  },
  {
   "cell_type": "code",
   "execution_count": 46,
   "metadata": {},
   "outputs": [],
   "source": [
    "# renaming all extensions to lowercase\n",
    "for target in targets_images.keys():\n",
    "    for index, image_path in enumerate(targets_images[target]):\n",
    "        extension = get_extension(image_path)\n",
    "        lower_extension = extension.lower()\n",
    "        new_image_path = image_path.replace(extension,lower_extension)\n",
    "        os.rename(image_path,new_image_path)\n",
    "        targets_images[target][index] = new_image_path\n",
    "\n"
   ]
  },
  {
   "cell_type": "code",
   "execution_count": 47,
   "metadata": {},
   "outputs": [
    {
     "data": {
      "text/plain": [
       "{'jpg': 1429, 'png': 111, 'jpeg': 10, 'bmp': 1}"
      ]
     },
     "execution_count": 47,
     "metadata": {},
     "output_type": "execute_result"
    }
   ],
   "source": [
    "get_extensions(targets_images)"
   ]
  },
  {
   "cell_type": "code",
   "execution_count": 48,
   "metadata": {},
   "outputs": [
    {
     "name": "stderr",
     "output_type": "stream",
     "text": [
      "/usr/lib/python3/dist-packages/PIL/Image.py:945: UserWarning: Palette images with Transparency expressed in bytes should be converted to RGBA images\n",
      "  warnings.warn(\n"
     ]
    }
   ],
   "source": [
    "# convert all images to jpg\n",
    "for target in targets_images.keys():\n",
    "    for index, image_path in enumerate(targets_images[target]):\n",
    "        extension = get_extension(image_path)\n",
    "        if extension == 'jpg':\n",
    "            continue\n",
    "        new_image_path = image_path.replace(extension, 'jpg')\n",
    "        im = Image.open(image_path)\n",
    "        rgb_im = im.convert(\"RGB\")\n",
    "        rgb_im.save(new_image_path)\n",
    "        os.remove(image_path)\n",
    "        targets_images[target][index] = new_image_path\n",
    "        \n"
   ]
  },
  {
   "cell_type": "code",
   "execution_count": 50,
   "metadata": {},
   "outputs": [
    {
     "data": {
      "text/plain": [
       "{'jpg': 1551}"
      ]
     },
     "execution_count": 50,
     "metadata": {},
     "output_type": "execute_result"
    }
   ],
   "source": [
    "get_extensions(targets_images)"
   ]
  },
  {
   "cell_type": "code",
   "execution_count": 53,
   "metadata": {},
   "outputs": [],
   "source": [
    "import numpy as np\n",
    "import matplotlib.pyplot as plt"
   ]
  },
  {
   "cell_type": "code",
   "execution_count": 54,
   "metadata": {},
   "outputs": [],
   "source": [
    "np.random.seed(20)"
   ]
  },
  {
   "cell_type": "code",
   "execution_count": null,
   "metadata": {},
   "outputs": [],
   "source": [
    "def plot_images(datagen):\n",
    "  # generate samples and plot\n",
    "  for i in range(9):\n",
    "    # define subplot\n",
    "    plt.subplot(330 + 1 + i)\n",
    "    # generate batch of images\n",
    "    batch = datagen.next()\n",
    "    # convert to unsigned integers for viewing\n",
    "    image_ = batch[0]\n",
    "    # plot raw pixel data\n",
    "    plt.imshow(image_[0])\n",
    "  plt.show()\n"
   ]
  }
 ],
 "metadata": {
  "kernelspec": {
   "display_name": "Python 3",
   "language": "python",
   "name": "python3"
  },
  "language_info": {
   "codemirror_mode": {
    "name": "ipython",
    "version": 3
   },
   "file_extension": ".py",
   "mimetype": "text/x-python",
   "name": "python",
   "nbconvert_exporter": "python",
   "pygments_lexer": "ipython3",
   "version": "3.10.12"
  }
 },
 "nbformat": 4,
 "nbformat_minor": 2
}
